{
 "cells": [
  {
   "cell_type": "markdown",
   "id": "6f8a8f0e-eb1a-4e5a-bead-9e29dc629462",
   "metadata": {},
   "source": [
    "# Calidad de datos"
   ]
  },
  {
   "cell_type": "markdown",
   "id": "e4f858c4-a2b5-4f85-adcc-8b18765589bc",
   "metadata": {},
   "source": [
    "## 1. Importar paquetes"
   ]
  },
  {
   "cell_type": "code",
   "execution_count": 28,
   "id": "8d48d686-2efb-4526-9ce5-0058e57b251c",
   "metadata": {},
   "outputs": [],
   "source": [
    "import pandas as pd"
   ]
  },
  {
   "cell_type": "markdown",
   "id": "0433e8d0-aa37-49cd-bbeb-b2c963cfc9dd",
   "metadata": {},
   "source": [
    "## 2. Carga de los datos"
   ]
  },
  {
   "cell_type": "code",
   "execution_count": 29,
   "id": "b6d5d7fd-8fdd-4f32-a9b2-4b45c4efb336",
   "metadata": {},
   "outputs": [],
   "source": [
    "ruta = 'C:/Users/matia/OneDrive/Escritorio/Asteroid_Classification'"
   ]
  },
  {
   "cell_type": "code",
   "execution_count": 30,
   "id": "ce6e4ca8-9b27-4297-a643-326d12cb6fe7",
   "metadata": {},
   "outputs": [],
   "source": [
    "datos = 'trabajo.csv'"
   ]
  },
  {
   "cell_type": "code",
   "execution_count": 31,
   "id": "4c350372-4a44-465e-936d-f17645364ccf",
   "metadata": {},
   "outputs": [
    {
     "data": {
      "text/html": [
       "<div>\n",
       "<style scoped>\n",
       "    .dataframe tbody tr th:only-of-type {\n",
       "        vertical-align: middle;\n",
       "    }\n",
       "\n",
       "    .dataframe tbody tr th {\n",
       "        vertical-align: top;\n",
       "    }\n",
       "\n",
       "    .dataframe thead th {\n",
       "        text-align: right;\n",
       "    }\n",
       "</style>\n",
       "<table border=\"1\" class=\"dataframe\">\n",
       "  <thead>\n",
       "    <tr style=\"text-align: right;\">\n",
       "      <th></th>\n",
       "      <th>spkid</th>\n",
       "      <th>full_name</th>\n",
       "      <th>pha</th>\n",
       "      <th>H</th>\n",
       "      <th>diameter</th>\n",
       "      <th>albedo</th>\n",
       "      <th>diameter_sigma</th>\n",
       "      <th>e</th>\n",
       "      <th>a</th>\n",
       "      <th>q</th>\n",
       "      <th>...</th>\n",
       "      <th>sigma_i</th>\n",
       "      <th>sigma_om</th>\n",
       "      <th>sigma_w</th>\n",
       "      <th>sigma_ma</th>\n",
       "      <th>sigma_ad</th>\n",
       "      <th>sigma_n</th>\n",
       "      <th>sigma_tp</th>\n",
       "      <th>sigma_per</th>\n",
       "      <th>class</th>\n",
       "      <th>rms</th>\n",
       "    </tr>\n",
       "  </thead>\n",
       "  <tbody>\n",
       "    <tr>\n",
       "      <th>0</th>\n",
       "      <td>2000001</td>\n",
       "      <td>'     1 Ceres'</td>\n",
       "      <td>N</td>\n",
       "      <td>3.4</td>\n",
       "      <td>939.4</td>\n",
       "      <td>0.0900</td>\n",
       "      <td>0.2</td>\n",
       "      <td>0.077557</td>\n",
       "      <td>2.767657</td>\n",
       "      <td>2.553006</td>\n",
       "      <td>...</td>\n",
       "      <td>4.613200e-09</td>\n",
       "      <td>6.176900e-08</td>\n",
       "      <td>6.618400e-08</td>\n",
       "      <td>7.355900e-09</td>\n",
       "      <td>1.115900e-11</td>\n",
       "      <td>1.201400e-12</td>\n",
       "      <td>3.686700e-08</td>\n",
       "      <td>9.439100e-09</td>\n",
       "      <td>MBA</td>\n",
       "      <td>0.40633</td>\n",
       "    </tr>\n",
       "    <tr>\n",
       "      <th>4</th>\n",
       "      <td>2000005</td>\n",
       "      <td>'     5 Astraea'</td>\n",
       "      <td>N</td>\n",
       "      <td>6.9</td>\n",
       "      <td>106.699</td>\n",
       "      <td>0.2740</td>\n",
       "      <td>3.14</td>\n",
       "      <td>0.190913</td>\n",
       "      <td>2.574037</td>\n",
       "      <td>2.082619</td>\n",
       "      <td>...</td>\n",
       "      <td>2.743600e-06</td>\n",
       "      <td>2.926000e-05</td>\n",
       "      <td>3.016900e-05</td>\n",
       "      <td>8.703600e-06</td>\n",
       "      <td>4.902000e-09</td>\n",
       "      <td>5.724700e-10</td>\n",
       "      <td>3.640700e-05</td>\n",
       "      <td>3.618200e-06</td>\n",
       "      <td>MBA</td>\n",
       "      <td>0.51439</td>\n",
       "    </tr>\n",
       "    <tr>\n",
       "      <th>6</th>\n",
       "      <td>2000007</td>\n",
       "      <td>'     7 Iris'</td>\n",
       "      <td>N</td>\n",
       "      <td>5.6</td>\n",
       "      <td>199.83</td>\n",
       "      <td>0.2766</td>\n",
       "      <td>10.0</td>\n",
       "      <td>0.230145</td>\n",
       "      <td>2.387375</td>\n",
       "      <td>1.837933</td>\n",
       "      <td>...</td>\n",
       "      <td>2.582500e-06</td>\n",
       "      <td>2.641200e-05</td>\n",
       "      <td>2.707500e-05</td>\n",
       "      <td>7.014700e-06</td>\n",
       "      <td>2.469500e-09</td>\n",
       "      <td>3.370100e-10</td>\n",
       "      <td>2.662700e-05</td>\n",
       "      <td>1.699400e-06</td>\n",
       "      <td>MBA</td>\n",
       "      <td>0.38128</td>\n",
       "    </tr>\n",
       "    <tr>\n",
       "      <th>7</th>\n",
       "      <td>2000008</td>\n",
       "      <td>'     8 Flora'</td>\n",
       "      <td>N</td>\n",
       "      <td>6.5</td>\n",
       "      <td>147.491</td>\n",
       "      <td>0.2260</td>\n",
       "      <td>1.025</td>\n",
       "      <td>0.155833</td>\n",
       "      <td>2.201415</td>\n",
       "      <td>1.858362</td>\n",
       "      <td>...</td>\n",
       "      <td>3.319600e-06</td>\n",
       "      <td>2.499000e-05</td>\n",
       "      <td>2.735000e-05</td>\n",
       "      <td>1.247600e-05</td>\n",
       "      <td>2.900800e-09</td>\n",
       "      <td>5.160100e-10</td>\n",
       "      <td>4.147700e-05</td>\n",
       "      <td>2.040100e-06</td>\n",
       "      <td>MBA</td>\n",
       "      <td>0.52919</td>\n",
       "    </tr>\n",
       "    <tr>\n",
       "      <th>8</th>\n",
       "      <td>2000009</td>\n",
       "      <td>'     9 Metis'</td>\n",
       "      <td>N</td>\n",
       "      <td>6.3</td>\n",
       "      <td>190.0</td>\n",
       "      <td>0.1180</td>\n",
       "      <td>?</td>\n",
       "      <td>0.123300</td>\n",
       "      <td>2.386189</td>\n",
       "      <td>2.091972</td>\n",
       "      <td>...</td>\n",
       "      <td>2.009400e-06</td>\n",
       "      <td>2.425100e-05</td>\n",
       "      <td>2.609600e-05</td>\n",
       "      <td>1.049400e-05</td>\n",
       "      <td>3.524500e-09</td>\n",
       "      <td>5.273900e-10</td>\n",
       "      <td>3.918200e-05</td>\n",
       "      <td>2.655500e-06</td>\n",
       "      <td>MBA</td>\n",
       "      <td>0.43435</td>\n",
       "    </tr>\n",
       "    <tr>\n",
       "      <th>...</th>\n",
       "      <td>...</td>\n",
       "      <td>...</td>\n",
       "      <td>...</td>\n",
       "      <td>...</td>\n",
       "      <td>...</td>\n",
       "      <td>...</td>\n",
       "      <td>...</td>\n",
       "      <td>...</td>\n",
       "      <td>...</td>\n",
       "      <td>...</td>\n",
       "      <td>...</td>\n",
       "      <td>...</td>\n",
       "      <td>...</td>\n",
       "      <td>...</td>\n",
       "      <td>...</td>\n",
       "      <td>...</td>\n",
       "      <td>...</td>\n",
       "      <td>...</td>\n",
       "      <td>...</td>\n",
       "      <td>...</td>\n",
       "      <td>...</td>\n",
       "    </tr>\n",
       "    <tr>\n",
       "      <th>126125</th>\n",
       "      <td>2538837</td>\n",
       "      <td>'538837 (2016 GP204)'</td>\n",
       "      <td>N</td>\n",
       "      <td>16.3</td>\n",
       "      <td>3.22</td>\n",
       "      <td>0.0560</td>\n",
       "      <td>0.47600000000000003</td>\n",
       "      <td>0.107386</td>\n",
       "      <td>3.205050</td>\n",
       "      <td>2.860874</td>\n",
       "      <td>...</td>\n",
       "      <td>1.840300e-05</td>\n",
       "      <td>2.298300e-05</td>\n",
       "      <td>1.064200e-04</td>\n",
       "      <td>9.242400e-05</td>\n",
       "      <td>3.471100e-07</td>\n",
       "      <td>2.519900e-08</td>\n",
       "      <td>5.093900e-04</td>\n",
       "      <td>3.074500e-04</td>\n",
       "      <td>OMB</td>\n",
       "      <td>0.60914</td>\n",
       "    </tr>\n",
       "    <tr>\n",
       "      <th>126126</th>\n",
       "      <td>2538838</td>\n",
       "      <td>'538838 (2016 GT207)'</td>\n",
       "      <td>N</td>\n",
       "      <td>16.2</td>\n",
       "      <td>3.827</td>\n",
       "      <td>0.0530</td>\n",
       "      <td>0.8190000000000001</td>\n",
       "      <td>0.094880</td>\n",
       "      <td>2.857143</td>\n",
       "      <td>2.586058</td>\n",
       "      <td>...</td>\n",
       "      <td>7.649400e-06</td>\n",
       "      <td>2.422500e-05</td>\n",
       "      <td>4.654800e-05</td>\n",
       "      <td>4.671400e-05</td>\n",
       "      <td>1.085500e-07</td>\n",
       "      <td>1.062300e-08</td>\n",
       "      <td>2.421800e-04</td>\n",
       "      <td>9.181800e-05</td>\n",
       "      <td>MBA</td>\n",
       "      <td>0.49840</td>\n",
       "    </tr>\n",
       "    <tr>\n",
       "      <th>126127</th>\n",
       "      <td>2538938</td>\n",
       "      <td>'538938 (2016 JS6)'</td>\n",
       "      <td>N</td>\n",
       "      <td>16.5</td>\n",
       "      <td>2.8680000000000003</td>\n",
       "      <td>0.0590</td>\n",
       "      <td>0.667</td>\n",
       "      <td>0.066066</td>\n",
       "      <td>3.061685</td>\n",
       "      <td>2.859413</td>\n",
       "      <td>...</td>\n",
       "      <td>3.736000e-05</td>\n",
       "      <td>4.606600e-05</td>\n",
       "      <td>2.734200e-04</td>\n",
       "      <td>2.850800e-04</td>\n",
       "      <td>1.653000e-07</td>\n",
       "      <td>1.397600e-08</td>\n",
       "      <td>1.561400e-03</td>\n",
       "      <td>1.486500e-04</td>\n",
       "      <td>MBA</td>\n",
       "      <td>0.55930</td>\n",
       "    </tr>\n",
       "    <tr>\n",
       "      <th>126129</th>\n",
       "      <td>2539080</td>\n",
       "      <td>'539080 (2016 NW12)'</td>\n",
       "      <td>N</td>\n",
       "      <td>17.0</td>\n",
       "      <td>2.7880000000000003</td>\n",
       "      <td>0.0270</td>\n",
       "      <td>0.456</td>\n",
       "      <td>0.118547</td>\n",
       "      <td>2.590028</td>\n",
       "      <td>2.282987</td>\n",
       "      <td>...</td>\n",
       "      <td>8.226300e-06</td>\n",
       "      <td>7.422600e-05</td>\n",
       "      <td>9.243400e-05</td>\n",
       "      <td>6.648900e-05</td>\n",
       "      <td>7.375600e-08</td>\n",
       "      <td>9.029800e-09</td>\n",
       "      <td>2.956000e-04</td>\n",
       "      <td>5.814200e-05</td>\n",
       "      <td>MBA</td>\n",
       "      <td>0.50012</td>\n",
       "    </tr>\n",
       "    <tr>\n",
       "      <th>126130</th>\n",
       "      <td>2539759</td>\n",
       "      <td>'539759 (2016 UO107)'</td>\n",
       "      <td>N</td>\n",
       "      <td>16.0</td>\n",
       "      <td>3.0639999999999996</td>\n",
       "      <td>0.1430</td>\n",
       "      <td>0.552</td>\n",
       "      <td>0.209092</td>\n",
       "      <td>3.968204</td>\n",
       "      <td>3.138482</td>\n",
       "      <td>...</td>\n",
       "      <td>1.102500e-05</td>\n",
       "      <td>1.455800e-04</td>\n",
       "      <td>1.543500e-04</td>\n",
       "      <td>4.233600e-05</td>\n",
       "      <td>3.002800e-07</td>\n",
       "      <td>1.170500e-08</td>\n",
       "      <td>3.311600e-04</td>\n",
       "      <td>2.710600e-04</td>\n",
       "      <td>OMB</td>\n",
       "      <td>0.60971</td>\n",
       "    </tr>\n",
       "  </tbody>\n",
       "</table>\n",
       "<p>88292 rows × 35 columns</p>\n",
       "</div>"
      ],
      "text/plain": [
       "          spkid              full_name pha     H            diameter  albedo  \\\n",
       "0       2000001         '     1 Ceres'   N   3.4               939.4  0.0900   \n",
       "4       2000005       '     5 Astraea'   N   6.9             106.699  0.2740   \n",
       "6       2000007          '     7 Iris'   N   5.6              199.83  0.2766   \n",
       "7       2000008         '     8 Flora'   N   6.5             147.491  0.2260   \n",
       "8       2000009         '     9 Metis'   N   6.3               190.0  0.1180   \n",
       "...         ...                    ...  ..   ...                 ...     ...   \n",
       "126125  2538837  '538837 (2016 GP204)'   N  16.3                3.22  0.0560   \n",
       "126126  2538838  '538838 (2016 GT207)'   N  16.2               3.827  0.0530   \n",
       "126127  2538938    '538938 (2016 JS6)'   N  16.5  2.8680000000000003  0.0590   \n",
       "126129  2539080   '539080 (2016 NW12)'   N  17.0  2.7880000000000003  0.0270   \n",
       "126130  2539759  '539759 (2016 UO107)'   N  16.0  3.0639999999999996  0.1430   \n",
       "\n",
       "             diameter_sigma         e         a         q  ...       sigma_i  \\\n",
       "0                       0.2  0.077557  2.767657  2.553006  ...  4.613200e-09   \n",
       "4                      3.14  0.190913  2.574037  2.082619  ...  2.743600e-06   \n",
       "6                      10.0  0.230145  2.387375  1.837933  ...  2.582500e-06   \n",
       "7                     1.025  0.155833  2.201415  1.858362  ...  3.319600e-06   \n",
       "8                         ?  0.123300  2.386189  2.091972  ...  2.009400e-06   \n",
       "...                     ...       ...       ...       ...  ...           ...   \n",
       "126125  0.47600000000000003  0.107386  3.205050  2.860874  ...  1.840300e-05   \n",
       "126126   0.8190000000000001  0.094880  2.857143  2.586058  ...  7.649400e-06   \n",
       "126127                0.667  0.066066  3.061685  2.859413  ...  3.736000e-05   \n",
       "126129                0.456  0.118547  2.590028  2.282987  ...  8.226300e-06   \n",
       "126130                0.552  0.209092  3.968204  3.138482  ...  1.102500e-05   \n",
       "\n",
       "            sigma_om       sigma_w      sigma_ma      sigma_ad       sigma_n  \\\n",
       "0       6.176900e-08  6.618400e-08  7.355900e-09  1.115900e-11  1.201400e-12   \n",
       "4       2.926000e-05  3.016900e-05  8.703600e-06  4.902000e-09  5.724700e-10   \n",
       "6       2.641200e-05  2.707500e-05  7.014700e-06  2.469500e-09  3.370100e-10   \n",
       "7       2.499000e-05  2.735000e-05  1.247600e-05  2.900800e-09  5.160100e-10   \n",
       "8       2.425100e-05  2.609600e-05  1.049400e-05  3.524500e-09  5.273900e-10   \n",
       "...              ...           ...           ...           ...           ...   \n",
       "126125  2.298300e-05  1.064200e-04  9.242400e-05  3.471100e-07  2.519900e-08   \n",
       "126126  2.422500e-05  4.654800e-05  4.671400e-05  1.085500e-07  1.062300e-08   \n",
       "126127  4.606600e-05  2.734200e-04  2.850800e-04  1.653000e-07  1.397600e-08   \n",
       "126129  7.422600e-05  9.243400e-05  6.648900e-05  7.375600e-08  9.029800e-09   \n",
       "126130  1.455800e-04  1.543500e-04  4.233600e-05  3.002800e-07  1.170500e-08   \n",
       "\n",
       "            sigma_tp     sigma_per  class      rms  \n",
       "0       3.686700e-08  9.439100e-09    MBA  0.40633  \n",
       "4       3.640700e-05  3.618200e-06    MBA  0.51439  \n",
       "6       2.662700e-05  1.699400e-06    MBA  0.38128  \n",
       "7       4.147700e-05  2.040100e-06    MBA  0.52919  \n",
       "8       3.918200e-05  2.655500e-06    MBA  0.43435  \n",
       "...              ...           ...    ...      ...  \n",
       "126125  5.093900e-04  3.074500e-04    OMB  0.60914  \n",
       "126126  2.421800e-04  9.181800e-05    MBA  0.49840  \n",
       "126127  1.561400e-03  1.486500e-04    MBA  0.55930  \n",
       "126129  2.956000e-04  5.814200e-05    MBA  0.50012  \n",
       "126130  3.311600e-04  2.710600e-04    OMB  0.60971  \n",
       "\n",
       "[88292 rows x 35 columns]"
      ]
     },
     "execution_count": 31,
     "metadata": {},
     "output_type": "execute_result"
    }
   ],
   "source": [
    "ruta_completa = ruta + '/02_Datos/03_Trabajo/' + datos\n",
    "df = pd.read_csv(ruta_completa, delimiter = ',', index_col = 0, low_memory = False)\n",
    "df"
   ]
  },
  {
   "cell_type": "markdown",
   "id": "281f419e-98ce-401e-8448-8b3a835451fe",
   "metadata": {},
   "source": [
    "## 3. Calidad de los datos"
   ]
  },
  {
   "cell_type": "markdown",
   "id": "d53a7e27-38d4-4967-82e1-d7fbfe89ccbf",
   "metadata": {},
   "source": [
    "### 3.1 Vista general"
   ]
  },
  {
   "cell_type": "code",
   "execution_count": 32,
   "id": "77dc3a59-84f3-45d1-b20e-551f0ba6f973",
   "metadata": {},
   "outputs": [
    {
     "name": "stdout",
     "output_type": "stream",
     "text": [
      "<class 'pandas.core.frame.DataFrame'>\n",
      "Index: 88292 entries, 0 to 126130\n",
      "Data columns (total 35 columns):\n",
      " #   Column          Non-Null Count  Dtype  \n",
      "---  ------          --------------  -----  \n",
      " 0   spkid           88292 non-null  int64  \n",
      " 1   full_name       88292 non-null  object \n",
      " 2   pha             88292 non-null  object \n",
      " 3   H               88292 non-null  float64\n",
      " 4   diameter        88292 non-null  object \n",
      " 5   albedo          88292 non-null  float64\n",
      " 6   diameter_sigma  88292 non-null  object \n",
      " 7   e               88292 non-null  float64\n",
      " 8   a               88292 non-null  float64\n",
      " 9   q               88292 non-null  float64\n",
      " 10  i               88292 non-null  float64\n",
      " 11  om              88292 non-null  float64\n",
      " 12  w               88292 non-null  float64\n",
      " 13  ma              88292 non-null  float64\n",
      " 14  ad              88292 non-null  float64\n",
      " 15  n               88292 non-null  float64\n",
      " 16  tp              88292 non-null  float64\n",
      " 17  tp_cal          88292 non-null  float64\n",
      " 18  per             88292 non-null  float64\n",
      " 19  per_y           88292 non-null  float64\n",
      " 20  moid            88292 non-null  float64\n",
      " 21  moid_ld         88292 non-null  float64\n",
      " 22  sigma_e         88292 non-null  float64\n",
      " 23  sigma_a         88292 non-null  float64\n",
      " 24  sigma_q         88292 non-null  float64\n",
      " 25  sigma_i         88292 non-null  float64\n",
      " 26  sigma_om        88292 non-null  float64\n",
      " 27  sigma_w         88292 non-null  float64\n",
      " 28  sigma_ma        88292 non-null  float64\n",
      " 29  sigma_ad        88292 non-null  float64\n",
      " 30  sigma_n         88292 non-null  float64\n",
      " 31  sigma_tp        88292 non-null  float64\n",
      " 32  sigma_per       88292 non-null  float64\n",
      " 33  class           88292 non-null  object \n",
      " 34  rms             88292 non-null  float64\n",
      "dtypes: float64(29), int64(1), object(5)\n",
      "memory usage: 24.3+ MB\n"
     ]
    }
   ],
   "source": [
    "df.info()"
   ]
  },
  {
   "cell_type": "markdown",
   "id": "28a22647-be74-4be5-aba0-ebbd33074a39",
   "metadata": {},
   "source": [
    "### 3.2 Datos nulos"
   ]
  },
  {
   "cell_type": "code",
   "execution_count": 33,
   "id": "47d235c6-98d8-40f8-b5fc-fa2b8138789e",
   "metadata": {},
   "outputs": [
    {
     "data": {
      "text/plain": [
       "spkid             0\n",
       "full_name         0\n",
       "pha               0\n",
       "H                 0\n",
       "diameter          0\n",
       "albedo            0\n",
       "diameter_sigma    0\n",
       "e                 0\n",
       "a                 0\n",
       "q                 0\n",
       "i                 0\n",
       "om                0\n",
       "w                 0\n",
       "ma                0\n",
       "ad                0\n",
       "n                 0\n",
       "tp                0\n",
       "tp_cal            0\n",
       "per               0\n",
       "per_y             0\n",
       "moid              0\n",
       "moid_ld           0\n",
       "sigma_e           0\n",
       "sigma_a           0\n",
       "sigma_q           0\n",
       "sigma_i           0\n",
       "sigma_om          0\n",
       "sigma_w           0\n",
       "sigma_ma          0\n",
       "sigma_ad          0\n",
       "sigma_n           0\n",
       "sigma_tp          0\n",
       "sigma_per         0\n",
       "class             0\n",
       "rms               0\n",
       "dtype: int64"
      ]
     },
     "execution_count": 33,
     "metadata": {},
     "output_type": "execute_result"
    }
   ],
   "source": [
    "df.isnull().sum()"
   ]
  },
  {
   "cell_type": "markdown",
   "id": "68591c14-1960-4e1a-b7cd-e2463d81fce3",
   "metadata": {},
   "source": [
    "### 3.2 Valores unicos"
   ]
  },
  {
   "cell_type": "code",
   "execution_count": 34,
   "id": "39264023-65d5-4cbd-866a-d069cc06fab5",
   "metadata": {},
   "outputs": [
    {
     "data": {
      "text/plain": [
       "spkid             88292\n",
       "full_name         88292\n",
       "pha                   2\n",
       "H                   169\n",
       "diameter          15640\n",
       "albedo              955\n",
       "diameter_sigma     2796\n",
       "e                 88292\n",
       "a                 88292\n",
       "q                 88292\n",
       "i                 88292\n",
       "om                88292\n",
       "w                 88292\n",
       "ma                88292\n",
       "ad                88292\n",
       "n                 88292\n",
       "tp                88292\n",
       "tp_cal            88292\n",
       "per               88292\n",
       "per_y             88292\n",
       "moid              68566\n",
       "moid_ld           68566\n",
       "sigma_e           46225\n",
       "sigma_a           46514\n",
       "sigma_q           34641\n",
       "sigma_i           47405\n",
       "sigma_om          52960\n",
       "sigma_w           55645\n",
       "sigma_ma          46477\n",
       "sigma_ad          46756\n",
       "sigma_n           36187\n",
       "sigma_tp          54729\n",
       "sigma_per         49203\n",
       "class                11\n",
       "rms               23636\n",
       "dtype: int64"
      ]
     },
     "execution_count": 34,
     "metadata": {},
     "output_type": "execute_result"
    }
   ],
   "source": [
    "df.nunique()"
   ]
  },
  {
   "cell_type": "markdown",
   "id": "c89a5f05-1b52-4f81-abd3-28549e95692c",
   "metadata": {},
   "source": [
    "### 3.3 Valores duplicados"
   ]
  },
  {
   "cell_type": "code",
   "execution_count": 35,
   "id": "7162fe3b-7279-4ce6-828d-08e66702c9c1",
   "metadata": {},
   "outputs": [
    {
     "data": {
      "text/plain": [
       "0"
      ]
     },
     "execution_count": 35,
     "metadata": {},
     "output_type": "execute_result"
    }
   ],
   "source": [
    "df.duplicated().sum()"
   ]
  },
  {
   "cell_type": "markdown",
   "id": "adcf789a-331d-4f60-8596-6b66f95d6f2e",
   "metadata": {},
   "source": [
    "## 4. Calidad de datos"
   ]
  },
  {
   "cell_type": "markdown",
   "id": "08157942-00c1-40ec-bfc8-46500b61000e",
   "metadata": {},
   "source": [
    "Las variables de *diameter* y *diameter_sigma* son tiene relación con el diametro del asteroide. Lo que son variable numericas, pero son reconocidas como varaible categoricas (object), toca cambiar su tipo"
   ]
  },
  {
   "cell_type": "code",
   "execution_count": 36,
   "id": "4bd0b503-53e0-4332-86d4-4548036fa471",
   "metadata": {},
   "outputs": [],
   "source": [
    "df['diameter'] = pd.to_numeric(df['diameter'], errors = 'coerce')\n",
    "df['diameter_sigma'] = pd.to_numeric(df['diameter_sigma'], errors = 'coerce')"
   ]
  },
  {
   "cell_type": "markdown",
   "id": "c13aed68-f3a6-413f-b5b6-60b90fc4a4fb",
   "metadata": {},
   "source": [
    "Aplicar este cambio puede inducir nulos en el dataset, asi que toca revisar eso"
   ]
  },
  {
   "cell_type": "code",
   "execution_count": 37,
   "id": "6c1a64d4-2b7a-484e-a61d-2fc101130127",
   "metadata": {},
   "outputs": [
    {
     "data": {
      "text/plain": [
       "spkid              0\n",
       "full_name          0\n",
       "pha                0\n",
       "H                  0\n",
       "diameter           3\n",
       "albedo             0\n",
       "diameter_sigma    66\n",
       "e                  0\n",
       "a                  0\n",
       "q                  0\n",
       "i                  0\n",
       "om                 0\n",
       "w                  0\n",
       "ma                 0\n",
       "ad                 0\n",
       "n                  0\n",
       "tp                 0\n",
       "tp_cal             0\n",
       "per                0\n",
       "per_y              0\n",
       "moid               0\n",
       "moid_ld            0\n",
       "sigma_e            0\n",
       "sigma_a            0\n",
       "sigma_q            0\n",
       "sigma_i            0\n",
       "sigma_om           0\n",
       "sigma_w            0\n",
       "sigma_ma           0\n",
       "sigma_ad           0\n",
       "sigma_n            0\n",
       "sigma_tp           0\n",
       "sigma_per          0\n",
       "class              0\n",
       "rms                0\n",
       "dtype: int64"
      ]
     },
     "execution_count": 37,
     "metadata": {},
     "output_type": "execute_result"
    }
   ],
   "source": [
    "df.isna().sum()"
   ]
  },
  {
   "cell_type": "markdown",
   "id": "7ce703f8-fd7d-4b4b-9f00-8ee1b09b1c71",
   "metadata": {},
   "source": [
    "Se completan estos nuevos valores nulos con la mediana, para no alterar la distibución de los datos"
   ]
  },
  {
   "cell_type": "code",
   "execution_count": 38,
   "id": "fdca3aa6-bd85-4d80-9cad-8a7eb247c2d1",
   "metadata": {},
   "outputs": [],
   "source": [
    "df['diameter'] = df['diameter'].fillna(df['diameter'].median())\n",
    "df['diameter_sigma'] = df['diameter_sigma'].fillna(df['diameter_sigma'].median())"
   ]
  },
  {
   "cell_type": "markdown",
   "id": "0adda4d6-1ec4-4b08-9a5d-91e369e60297",
   "metadata": {},
   "source": [
    "Revisamos el resultado"
   ]
  },
  {
   "cell_type": "code",
   "execution_count": 39,
   "id": "10349e3b-bf95-4c23-a2a9-8a28d7f08916",
   "metadata": {},
   "outputs": [
    {
     "data": {
      "text/plain": [
       "spkid             0\n",
       "full_name         0\n",
       "pha               0\n",
       "H                 0\n",
       "diameter          0\n",
       "albedo            0\n",
       "diameter_sigma    0\n",
       "e                 0\n",
       "a                 0\n",
       "q                 0\n",
       "i                 0\n",
       "om                0\n",
       "w                 0\n",
       "ma                0\n",
       "ad                0\n",
       "n                 0\n",
       "tp                0\n",
       "tp_cal            0\n",
       "per               0\n",
       "per_y             0\n",
       "moid              0\n",
       "moid_ld           0\n",
       "sigma_e           0\n",
       "sigma_a           0\n",
       "sigma_q           0\n",
       "sigma_i           0\n",
       "sigma_om          0\n",
       "sigma_w           0\n",
       "sigma_ma          0\n",
       "sigma_ad          0\n",
       "sigma_n           0\n",
       "sigma_tp          0\n",
       "sigma_per         0\n",
       "class             0\n",
       "rms               0\n",
       "dtype: int64"
      ]
     },
     "execution_count": 39,
     "metadata": {},
     "output_type": "execute_result"
    }
   ],
   "source": [
    "df.isna().sum()"
   ]
  },
  {
   "cell_type": "code",
   "execution_count": 40,
   "id": "1328c6bc-62ed-4f5b-98ee-7bd411f1882c",
   "metadata": {},
   "outputs": [
    {
     "name": "stdout",
     "output_type": "stream",
     "text": [
      "<class 'pandas.core.frame.DataFrame'>\n",
      "Index: 88292 entries, 0 to 126130\n",
      "Data columns (total 35 columns):\n",
      " #   Column          Non-Null Count  Dtype  \n",
      "---  ------          --------------  -----  \n",
      " 0   spkid           88292 non-null  int64  \n",
      " 1   full_name       88292 non-null  object \n",
      " 2   pha             88292 non-null  object \n",
      " 3   H               88292 non-null  float64\n",
      " 4   diameter        88292 non-null  float64\n",
      " 5   albedo          88292 non-null  float64\n",
      " 6   diameter_sigma  88292 non-null  float64\n",
      " 7   e               88292 non-null  float64\n",
      " 8   a               88292 non-null  float64\n",
      " 9   q               88292 non-null  float64\n",
      " 10  i               88292 non-null  float64\n",
      " 11  om              88292 non-null  float64\n",
      " 12  w               88292 non-null  float64\n",
      " 13  ma              88292 non-null  float64\n",
      " 14  ad              88292 non-null  float64\n",
      " 15  n               88292 non-null  float64\n",
      " 16  tp              88292 non-null  float64\n",
      " 17  tp_cal          88292 non-null  float64\n",
      " 18  per             88292 non-null  float64\n",
      " 19  per_y           88292 non-null  float64\n",
      " 20  moid            88292 non-null  float64\n",
      " 21  moid_ld         88292 non-null  float64\n",
      " 22  sigma_e         88292 non-null  float64\n",
      " 23  sigma_a         88292 non-null  float64\n",
      " 24  sigma_q         88292 non-null  float64\n",
      " 25  sigma_i         88292 non-null  float64\n",
      " 26  sigma_om        88292 non-null  float64\n",
      " 27  sigma_w         88292 non-null  float64\n",
      " 28  sigma_ma        88292 non-null  float64\n",
      " 29  sigma_ad        88292 non-null  float64\n",
      " 30  sigma_n         88292 non-null  float64\n",
      " 31  sigma_tp        88292 non-null  float64\n",
      " 32  sigma_per       88292 non-null  float64\n",
      " 33  class           88292 non-null  object \n",
      " 34  rms             88292 non-null  float64\n",
      "dtypes: float64(31), int64(1), object(3)\n",
      "memory usage: 24.3+ MB\n"
     ]
    }
   ],
   "source": [
    "df.info()"
   ]
  },
  {
   "cell_type": "markdown",
   "id": "b5be6e95-5f49-4bee-9901-3b3febc3766d",
   "metadata": {},
   "source": [
    "Dado que solo tiene una variable categorica, no es necesario separar el dataset por tipos de varaibles."
   ]
  },
  {
   "cell_type": "markdown",
   "id": "906a38bc-5553-44dc-b8f7-1c7059f4f659",
   "metadata": {},
   "source": [
    "## 5. Guardar los resultados "
   ]
  },
  {
   "cell_type": "code",
   "execution_count": 41,
   "id": "9c027fc3-ecf2-4b5d-801d-d7af5231b7bf",
   "metadata": {},
   "outputs": [],
   "source": [
    "ruta_trabajo = ruta + '/02_Datos/03_Trabajo/' + 'trabajo_resultado_calidad.pickle'"
   ]
  },
  {
   "cell_type": "code",
   "execution_count": 42,
   "id": "ba07de39-661d-435a-9e23-f40c5e4af05f",
   "metadata": {},
   "outputs": [],
   "source": [
    "df.to_pickle(ruta_trabajo)"
   ]
  },
  {
   "cell_type": "code",
   "execution_count": null,
   "id": "5ba096d4-21dd-40c5-b3be-502341e168d4",
   "metadata": {},
   "outputs": [],
   "source": []
  }
 ],
 "metadata": {
  "kernelspec": {
   "display_name": "Python 3 (ipykernel)",
   "language": "python",
   "name": "python3"
  },
  "language_info": {
   "codemirror_mode": {
    "name": "ipython",
    "version": 3
   },
   "file_extension": ".py",
   "mimetype": "text/x-python",
   "name": "python",
   "nbconvert_exporter": "python",
   "pygments_lexer": "ipython3",
   "version": "3.12.4"
  }
 },
 "nbformat": 4,
 "nbformat_minor": 5
}
