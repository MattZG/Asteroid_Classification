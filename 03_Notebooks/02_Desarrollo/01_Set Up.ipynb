{
 "cells": [
  {
   "cell_type": "markdown",
   "id": "88094b04",
   "metadata": {},
   "source": [
    "# SET UP"
   ]
  },
  {
   "cell_type": "markdown",
   "id": "f442e8c8-5ae7-4445-8b0b-eab642a92939",
   "metadata": {},
   "source": [
    "El proposito de este mini proyecto es explorar tecnicas para tratar los valores nulos de un dataset. He decidido tratarlo con un proyecto de data science porque considero que le otorga estructura y facilidad de compresión cuando desee volver a revisar o mejorar.\n",
    "\n",
    "La linea de trabajo de planeo seguir es una etapa de calidad de datos, para tener una perspectiva general del dataset. Luego un analisis explotario por medio de graficos, buscando relacion o tendencias en la data que pueden ser relevantes para mejorar mi entendimiento de la informacion. Con ello pasamos al objetivo que es aplicar diferentes metodos para trabajar valores nulos y  ver el impacto que tiene en el algoritmo. Así, elegir el metodo de entrega mejor resultado y buscar el modelo que se adapte mejor para llegar al resultado optimo."
   ]
  },
  {
   "cell_type": "markdown",
   "id": "234469e4",
   "metadata": {},
   "source": [
    "## IMPORTAR PAQUETES"
   ]
  },
  {
   "cell_type": "code",
   "execution_count": 1,
   "id": "18dab684",
   "metadata": {},
   "outputs": [],
   "source": [
    "import os\n",
    "import numpy as np\n",
    "import pandas as pd\n",
    "\n",
    "#Automcompletar rápido\n",
    "%config IPCompleter.greedy=True"
   ]
  },
  {
   "cell_type": "markdown",
   "id": "aa2291ac",
   "metadata": {},
   "source": [
    "## CREAR EL DIRECTORIO DEL PROYECTO"
   ]
  },
  {
   "cell_type": "markdown",
   "id": "9b376a0e",
   "metadata": {},
   "source": [
    "### Definir el directorio raiz donde vamos a crear el proyecto"
   ]
  },
  {
   "cell_type": "code",
   "execution_count": 2,
   "id": "ff896569",
   "metadata": {},
   "outputs": [],
   "source": [
    "raiz = 'C:/Users/matia/OneDrive/Escritorio/'"
   ]
  },
  {
   "cell_type": "markdown",
   "id": "ded3d58c",
   "metadata": {},
   "source": [
    "### Definir el nombre del proyecto"
   ]
  },
  {
   "cell_type": "code",
   "execution_count": 3,
   "id": "3b7dece1",
   "metadata": {},
   "outputs": [],
   "source": [
    "nombre_dir = 'Asteroid_Classification'"
   ]
  },
  {
   "cell_type": "markdown",
   "id": "e98c881a",
   "metadata": {},
   "source": [
    "### Crear el directorio y la estructura del proyecto"
   ]
  },
  {
   "cell_type": "code",
   "execution_count": 4,
   "id": "ea789940",
   "metadata": {},
   "outputs": [],
   "source": [
    "path = raiz + nombre_dir"
   ]
  },
  {
   "cell_type": "code",
   "execution_count": 6,
   "id": "ef24e4c0-48f4-4e2a-99d2-5318049c995b",
   "metadata": {},
   "outputs": [
    {
     "name": "stdout",
     "output_type": "stream",
     "text": [
      "Se ha creado satisfactoriamente el directorio C:/Users/matia/OneDrive/Escritorio/Asteroid_Classification \n"
     ]
    }
   ],
   "source": [
    "try:\n",
    "     os.mkdir(path)\n",
    "     os.mkdir(path + '/01_Documentos')\n",
    "     os.mkdir(path + '/02_Datos')\n",
    "     os.mkdir(path + '/02_Datos/01_Originales')\n",
    "     os.mkdir(path + '/02_Datos/02_Validacion')\n",
    "     os.mkdir(path + '/02_Datos/03_Trabajo')\n",
    "     os.mkdir(path + '/02_Datos/04_Caches')\n",
    "     os.mkdir(path + '/03_Notebooks')\n",
    "     os.mkdir(path + '/03_Notebooks/01_Funciones')\n",
    "     os.mkdir(path + '/03_Notebooks/02_Desarrollo')\n",
    "     os.mkdir(path + '/03_Notebooks/03_Sistema')\n",
    "     os.mkdir(path + '/04_Modelos')\n",
    "     os.mkdir(path + '/05_Resultados')\n",
    "     os.mkdir(path + '/09_Otros')\n",
    "    \n",
    "except OSError:\n",
    "     print (\"La creación del directorio %s ha fallado\" % path)\n",
    "else:\n",
    "     print (\"Se ha creado satisfactoriamente el directorio %s \" % path)"
   ]
  },
  {
   "cell_type": "markdown",
   "id": "d9807988-72c8-42ea-9606-2a9153d641d5",
   "metadata": {},
   "source": [
    "Entrega un error dado que el directorio ya esta creado."
   ]
  },
  {
   "cell_type": "markdown",
   "id": "fbdda974",
   "metadata": {},
   "source": [
    "### Situar el directorio de trabajo en el proyecto"
   ]
  },
  {
   "cell_type": "code",
   "execution_count": 5,
   "id": "6cf7027a",
   "metadata": {},
   "outputs": [],
   "source": [
    "os.chdir(path)"
   ]
  },
  {
   "cell_type": "markdown",
   "id": "c80bcf5b",
   "metadata": {},
   "source": [
    "### Mover el environment.yml"
   ]
  },
  {
   "cell_type": "markdown",
   "id": "5cfd72fa",
   "metadata": {},
   "source": [
    "Buscar manualmente el archivo riesgos.yml, que posiblemente lo haya ubicado en C:\\Users\\tu_usuario y moverlo a la carpeta /01_Documentos'"
   ]
  },
  {
   "cell_type": "markdown",
   "id": "eaae5ba8",
   "metadata": {},
   "source": [
    "## CREAR LOS DATASETS INICIALES"
   ]
  },
  {
   "cell_type": "markdown",
   "id": "18e327d2",
   "metadata": {},
   "source": [
    "Poner los datos originales en la carpeta '/02_Datos/01_Originales'"
   ]
  },
  {
   "cell_type": "markdown",
   "id": "7e6b4179",
   "metadata": {},
   "source": [
    "### Importar los datos"
   ]
  },
  {
   "cell_type": "markdown",
   "id": "a0aada6d",
   "metadata": {},
   "source": [
    "Sustituir el nombre_fichero_datos."
   ]
  },
  {
   "cell_type": "code",
   "execution_count": 6,
   "id": "a991faf3",
   "metadata": {},
   "outputs": [],
   "source": [
    "nombre_fichero_datos = 'Asteroid_Dataset.csv'"
   ]
  },
  {
   "cell_type": "markdown",
   "id": "6f69525e",
   "metadata": {},
   "source": [
    "Cargar los datos."
   ]
  },
  {
   "cell_type": "code",
   "execution_count": 7,
   "id": "0af0f484",
   "metadata": {},
   "outputs": [
    {
     "data": {
      "text/html": [
       "<div>\n",
       "<style scoped>\n",
       "    .dataframe tbody tr th:only-of-type {\n",
       "        vertical-align: middle;\n",
       "    }\n",
       "\n",
       "    .dataframe tbody tr th {\n",
       "        vertical-align: top;\n",
       "    }\n",
       "\n",
       "    .dataframe thead th {\n",
       "        text-align: right;\n",
       "    }\n",
       "</style>\n",
       "<table border=\"1\" class=\"dataframe\">\n",
       "  <thead>\n",
       "    <tr style=\"text-align: right;\">\n",
       "      <th></th>\n",
       "      <th>spkid</th>\n",
       "      <th>full_name</th>\n",
       "      <th>pha</th>\n",
       "      <th>H</th>\n",
       "      <th>diameter</th>\n",
       "      <th>albedo</th>\n",
       "      <th>diameter_sigma</th>\n",
       "      <th>e</th>\n",
       "      <th>a</th>\n",
       "      <th>q</th>\n",
       "      <th>...</th>\n",
       "      <th>sigma_i</th>\n",
       "      <th>sigma_om</th>\n",
       "      <th>sigma_w</th>\n",
       "      <th>sigma_ma</th>\n",
       "      <th>sigma_ad</th>\n",
       "      <th>sigma_n</th>\n",
       "      <th>sigma_tp</th>\n",
       "      <th>sigma_per</th>\n",
       "      <th>class</th>\n",
       "      <th>rms</th>\n",
       "    </tr>\n",
       "  </thead>\n",
       "  <tbody>\n",
       "    <tr>\n",
       "      <th>0</th>\n",
       "      <td>2000001</td>\n",
       "      <td>'     1 Ceres'</td>\n",
       "      <td>N</td>\n",
       "      <td>3.40</td>\n",
       "      <td>939.4</td>\n",
       "      <td>0.0900</td>\n",
       "      <td>0.2</td>\n",
       "      <td>0.077557</td>\n",
       "      <td>2.767657</td>\n",
       "      <td>2.553006</td>\n",
       "      <td>...</td>\n",
       "      <td>4.613200e-09</td>\n",
       "      <td>6.176900e-08</td>\n",
       "      <td>6.618400e-08</td>\n",
       "      <td>7.355900e-09</td>\n",
       "      <td>1.115900e-11</td>\n",
       "      <td>1.201400e-12</td>\n",
       "      <td>3.686700e-08</td>\n",
       "      <td>9.439100e-09</td>\n",
       "      <td>MBA</td>\n",
       "      <td>0.40633</td>\n",
       "    </tr>\n",
       "    <tr>\n",
       "      <th>1</th>\n",
       "      <td>2000002</td>\n",
       "      <td>'     2 Pallas'</td>\n",
       "      <td>N</td>\n",
       "      <td>4.20</td>\n",
       "      <td>545.0</td>\n",
       "      <td>0.1010</td>\n",
       "      <td>18.0</td>\n",
       "      <td>0.229972</td>\n",
       "      <td>2.773841</td>\n",
       "      <td>2.135935</td>\n",
       "      <td>...</td>\n",
       "      <td>3.701900e-06</td>\n",
       "      <td>6.412400e-06</td>\n",
       "      <td>9.494400e-06</td>\n",
       "      <td>9.151500e-06</td>\n",
       "      <td>5.054200e-09</td>\n",
       "      <td>4.740800e-10</td>\n",
       "      <td>4.219400e-05</td>\n",
       "      <td>3.749600e-06</td>\n",
       "      <td>MBA</td>\n",
       "      <td>0.36151</td>\n",
       "    </tr>\n",
       "    <tr>\n",
       "      <th>2</th>\n",
       "      <td>2000003</td>\n",
       "      <td>'     3 Juno'</td>\n",
       "      <td>N</td>\n",
       "      <td>5.33</td>\n",
       "      <td>246.596</td>\n",
       "      <td>0.2140</td>\n",
       "      <td>10.594000000000001</td>\n",
       "      <td>0.256936</td>\n",
       "      <td>2.668285</td>\n",
       "      <td>1.982706</td>\n",
       "      <td>...</td>\n",
       "      <td>3.232100e-06</td>\n",
       "      <td>1.687400e-05</td>\n",
       "      <td>1.795300e-05</td>\n",
       "      <td>8.114300e-06</td>\n",
       "      <td>4.413000e-09</td>\n",
       "      <td>4.463100e-10</td>\n",
       "      <td>3.530500e-05</td>\n",
       "      <td>3.142200e-06</td>\n",
       "      <td>MBA</td>\n",
       "      <td>0.33306</td>\n",
       "    </tr>\n",
       "    <tr>\n",
       "      <th>3</th>\n",
       "      <td>2000004</td>\n",
       "      <td>'     4 Vesta'</td>\n",
       "      <td>N</td>\n",
       "      <td>3.00</td>\n",
       "      <td>525.4</td>\n",
       "      <td>0.4228</td>\n",
       "      <td>0.2</td>\n",
       "      <td>0.088516</td>\n",
       "      <td>2.362014</td>\n",
       "      <td>2.152938</td>\n",
       "      <td>...</td>\n",
       "      <td>2.207300e-07</td>\n",
       "      <td>3.940500e-07</td>\n",
       "      <td>1.817500e-07</td>\n",
       "      <td>1.335200e-06</td>\n",
       "      <td>1.681800e-09</td>\n",
       "      <td>2.664000e-10</td>\n",
       "      <td>5.480200e-06</td>\n",
       "      <td>1.301000e-06</td>\n",
       "      <td>MBA</td>\n",
       "      <td>0.39592</td>\n",
       "    </tr>\n",
       "    <tr>\n",
       "      <th>4</th>\n",
       "      <td>2000005</td>\n",
       "      <td>'     5 Astraea'</td>\n",
       "      <td>N</td>\n",
       "      <td>6.90</td>\n",
       "      <td>106.699</td>\n",
       "      <td>0.2740</td>\n",
       "      <td>3.14</td>\n",
       "      <td>0.190913</td>\n",
       "      <td>2.574037</td>\n",
       "      <td>2.082619</td>\n",
       "      <td>...</td>\n",
       "      <td>2.743600e-06</td>\n",
       "      <td>2.926000e-05</td>\n",
       "      <td>3.016900e-05</td>\n",
       "      <td>8.703600e-06</td>\n",
       "      <td>4.902000e-09</td>\n",
       "      <td>5.724700e-10</td>\n",
       "      <td>3.640700e-05</td>\n",
       "      <td>3.618200e-06</td>\n",
       "      <td>MBA</td>\n",
       "      <td>0.51439</td>\n",
       "    </tr>\n",
       "    <tr>\n",
       "      <th>...</th>\n",
       "      <td>...</td>\n",
       "      <td>...</td>\n",
       "      <td>...</td>\n",
       "      <td>...</td>\n",
       "      <td>...</td>\n",
       "      <td>...</td>\n",
       "      <td>...</td>\n",
       "      <td>...</td>\n",
       "      <td>...</td>\n",
       "      <td>...</td>\n",
       "      <td>...</td>\n",
       "      <td>...</td>\n",
       "      <td>...</td>\n",
       "      <td>...</td>\n",
       "      <td>...</td>\n",
       "      <td>...</td>\n",
       "      <td>...</td>\n",
       "      <td>...</td>\n",
       "      <td>...</td>\n",
       "      <td>...</td>\n",
       "      <td>...</td>\n",
       "    </tr>\n",
       "    <tr>\n",
       "      <th>126126</th>\n",
       "      <td>2538838</td>\n",
       "      <td>'538838 (2016 GT207)'</td>\n",
       "      <td>N</td>\n",
       "      <td>16.20</td>\n",
       "      <td>3.827</td>\n",
       "      <td>0.0530</td>\n",
       "      <td>0.8190000000000001</td>\n",
       "      <td>0.094880</td>\n",
       "      <td>2.857143</td>\n",
       "      <td>2.586058</td>\n",
       "      <td>...</td>\n",
       "      <td>7.649400e-06</td>\n",
       "      <td>2.422500e-05</td>\n",
       "      <td>4.654800e-05</td>\n",
       "      <td>4.671400e-05</td>\n",
       "      <td>1.085500e-07</td>\n",
       "      <td>1.062300e-08</td>\n",
       "      <td>2.421800e-04</td>\n",
       "      <td>9.181800e-05</td>\n",
       "      <td>MBA</td>\n",
       "      <td>0.49840</td>\n",
       "    </tr>\n",
       "    <tr>\n",
       "      <th>126127</th>\n",
       "      <td>2538938</td>\n",
       "      <td>'538938 (2016 JS6)'</td>\n",
       "      <td>N</td>\n",
       "      <td>16.50</td>\n",
       "      <td>2.8680000000000003</td>\n",
       "      <td>0.0590</td>\n",
       "      <td>0.667</td>\n",
       "      <td>0.066066</td>\n",
       "      <td>3.061685</td>\n",
       "      <td>2.859413</td>\n",
       "      <td>...</td>\n",
       "      <td>3.736000e-05</td>\n",
       "      <td>4.606600e-05</td>\n",
       "      <td>2.734200e-04</td>\n",
       "      <td>2.850800e-04</td>\n",
       "      <td>1.653000e-07</td>\n",
       "      <td>1.397600e-08</td>\n",
       "      <td>1.561400e-03</td>\n",
       "      <td>1.486500e-04</td>\n",
       "      <td>MBA</td>\n",
       "      <td>0.55930</td>\n",
       "    </tr>\n",
       "    <tr>\n",
       "      <th>126128</th>\n",
       "      <td>2539007</td>\n",
       "      <td>'539007 (2016 LL22)'</td>\n",
       "      <td>N</td>\n",
       "      <td>16.10</td>\n",
       "      <td>2.63</td>\n",
       "      <td>0.0700</td>\n",
       "      <td>0.621</td>\n",
       "      <td>0.107814</td>\n",
       "      <td>3.171035</td>\n",
       "      <td>2.829153</td>\n",
       "      <td>...</td>\n",
       "      <td>3.378600e-05</td>\n",
       "      <td>6.351900e-05</td>\n",
       "      <td>1.305600e-04</td>\n",
       "      <td>1.038400e-04</td>\n",
       "      <td>4.026900e-07</td>\n",
       "      <td>3.001200e-08</td>\n",
       "      <td>5.966400e-04</td>\n",
       "      <td>3.546400e-04</td>\n",
       "      <td>MBA</td>\n",
       "      <td>0.61294</td>\n",
       "    </tr>\n",
       "    <tr>\n",
       "      <th>126129</th>\n",
       "      <td>2539080</td>\n",
       "      <td>'539080 (2016 NW12)'</td>\n",
       "      <td>N</td>\n",
       "      <td>17.00</td>\n",
       "      <td>2.7880000000000003</td>\n",
       "      <td>0.0270</td>\n",
       "      <td>0.456</td>\n",
       "      <td>0.118547</td>\n",
       "      <td>2.590028</td>\n",
       "      <td>2.282987</td>\n",
       "      <td>...</td>\n",
       "      <td>8.226300e-06</td>\n",
       "      <td>7.422600e-05</td>\n",
       "      <td>9.243400e-05</td>\n",
       "      <td>6.648900e-05</td>\n",
       "      <td>7.375600e-08</td>\n",
       "      <td>9.029800e-09</td>\n",
       "      <td>2.956000e-04</td>\n",
       "      <td>5.814200e-05</td>\n",
       "      <td>MBA</td>\n",
       "      <td>0.50012</td>\n",
       "    </tr>\n",
       "    <tr>\n",
       "      <th>126130</th>\n",
       "      <td>2539759</td>\n",
       "      <td>'539759 (2016 UO107)'</td>\n",
       "      <td>N</td>\n",
       "      <td>16.00</td>\n",
       "      <td>3.0639999999999996</td>\n",
       "      <td>0.1430</td>\n",
       "      <td>0.552</td>\n",
       "      <td>0.209092</td>\n",
       "      <td>3.968204</td>\n",
       "      <td>3.138482</td>\n",
       "      <td>...</td>\n",
       "      <td>1.102500e-05</td>\n",
       "      <td>1.455800e-04</td>\n",
       "      <td>1.543500e-04</td>\n",
       "      <td>4.233600e-05</td>\n",
       "      <td>3.002800e-07</td>\n",
       "      <td>1.170500e-08</td>\n",
       "      <td>3.311600e-04</td>\n",
       "      <td>2.710600e-04</td>\n",
       "      <td>OMB</td>\n",
       "      <td>0.60971</td>\n",
       "    </tr>\n",
       "  </tbody>\n",
       "</table>\n",
       "<p>126131 rows × 35 columns</p>\n",
       "</div>"
      ],
      "text/plain": [
       "          spkid              full_name pha      H            diameter  albedo  \\\n",
       "0       2000001         '     1 Ceres'   N   3.40               939.4  0.0900   \n",
       "1       2000002        '     2 Pallas'   N   4.20               545.0  0.1010   \n",
       "2       2000003          '     3 Juno'   N   5.33             246.596  0.2140   \n",
       "3       2000004         '     4 Vesta'   N   3.00               525.4  0.4228   \n",
       "4       2000005       '     5 Astraea'   N   6.90             106.699  0.2740   \n",
       "...         ...                    ...  ..    ...                 ...     ...   \n",
       "126126  2538838  '538838 (2016 GT207)'   N  16.20               3.827  0.0530   \n",
       "126127  2538938    '538938 (2016 JS6)'   N  16.50  2.8680000000000003  0.0590   \n",
       "126128  2539007   '539007 (2016 LL22)'   N  16.10                2.63  0.0700   \n",
       "126129  2539080   '539080 (2016 NW12)'   N  17.00  2.7880000000000003  0.0270   \n",
       "126130  2539759  '539759 (2016 UO107)'   N  16.00  3.0639999999999996  0.1430   \n",
       "\n",
       "            diameter_sigma         e         a         q  ...       sigma_i  \\\n",
       "0                      0.2  0.077557  2.767657  2.553006  ...  4.613200e-09   \n",
       "1                     18.0  0.229972  2.773841  2.135935  ...  3.701900e-06   \n",
       "2       10.594000000000001  0.256936  2.668285  1.982706  ...  3.232100e-06   \n",
       "3                      0.2  0.088516  2.362014  2.152938  ...  2.207300e-07   \n",
       "4                     3.14  0.190913  2.574037  2.082619  ...  2.743600e-06   \n",
       "...                    ...       ...       ...       ...  ...           ...   \n",
       "126126  0.8190000000000001  0.094880  2.857143  2.586058  ...  7.649400e-06   \n",
       "126127               0.667  0.066066  3.061685  2.859413  ...  3.736000e-05   \n",
       "126128               0.621  0.107814  3.171035  2.829153  ...  3.378600e-05   \n",
       "126129               0.456  0.118547  2.590028  2.282987  ...  8.226300e-06   \n",
       "126130               0.552  0.209092  3.968204  3.138482  ...  1.102500e-05   \n",
       "\n",
       "            sigma_om       sigma_w      sigma_ma      sigma_ad       sigma_n  \\\n",
       "0       6.176900e-08  6.618400e-08  7.355900e-09  1.115900e-11  1.201400e-12   \n",
       "1       6.412400e-06  9.494400e-06  9.151500e-06  5.054200e-09  4.740800e-10   \n",
       "2       1.687400e-05  1.795300e-05  8.114300e-06  4.413000e-09  4.463100e-10   \n",
       "3       3.940500e-07  1.817500e-07  1.335200e-06  1.681800e-09  2.664000e-10   \n",
       "4       2.926000e-05  3.016900e-05  8.703600e-06  4.902000e-09  5.724700e-10   \n",
       "...              ...           ...           ...           ...           ...   \n",
       "126126  2.422500e-05  4.654800e-05  4.671400e-05  1.085500e-07  1.062300e-08   \n",
       "126127  4.606600e-05  2.734200e-04  2.850800e-04  1.653000e-07  1.397600e-08   \n",
       "126128  6.351900e-05  1.305600e-04  1.038400e-04  4.026900e-07  3.001200e-08   \n",
       "126129  7.422600e-05  9.243400e-05  6.648900e-05  7.375600e-08  9.029800e-09   \n",
       "126130  1.455800e-04  1.543500e-04  4.233600e-05  3.002800e-07  1.170500e-08   \n",
       "\n",
       "            sigma_tp     sigma_per  class      rms  \n",
       "0       3.686700e-08  9.439100e-09    MBA  0.40633  \n",
       "1       4.219400e-05  3.749600e-06    MBA  0.36151  \n",
       "2       3.530500e-05  3.142200e-06    MBA  0.33306  \n",
       "3       5.480200e-06  1.301000e-06    MBA  0.39592  \n",
       "4       3.640700e-05  3.618200e-06    MBA  0.51439  \n",
       "...              ...           ...    ...      ...  \n",
       "126126  2.421800e-04  9.181800e-05    MBA  0.49840  \n",
       "126127  1.561400e-03  1.486500e-04    MBA  0.55930  \n",
       "126128  5.966400e-04  3.546400e-04    MBA  0.61294  \n",
       "126129  2.956000e-04  5.814200e-05    MBA  0.50012  \n",
       "126130  3.311600e-04  2.710600e-04    OMB  0.60971  \n",
       "\n",
       "[126131 rows x 35 columns]"
      ]
     },
     "execution_count": 7,
     "metadata": {},
     "output_type": "execute_result"
    }
   ],
   "source": [
    "ruta_completa = path + '/02_Datos/01_Originales/' + nombre_fichero_datos\n",
    "\n",
    "datos = pd.read_csv(ruta_completa, low_memory = False)\n",
    "datos"
   ]
  },
  {
   "cell_type": "markdown",
   "id": "72894eb0-ce3b-48f1-a3b8-125caf2d24c9",
   "metadata": {},
   "source": [
    "El numero total de registro en bajo, por ello no voy a tomar un muestra y utilizar todo el dataset para trabajar."
   ]
  },
  {
   "cell_type": "markdown",
   "id": "1c5ef592-3c00-4f5c-998c-0b26e4b8911a",
   "metadata": {},
   "source": [
    "### Extraer y guardar el dataset de validación"
   ]
  },
  {
   "cell_type": "code",
   "execution_count": 8,
   "id": "15e699da-4b45-41d8-8317-4ccf372bbfe6",
   "metadata": {},
   "outputs": [],
   "source": [
    "val = datos.sample(frac = 0.3)"
   ]
  },
  {
   "cell_type": "code",
   "execution_count": 9,
   "id": "6a4ee675-76d4-4db8-9ed3-20cbff2d09ae",
   "metadata": {},
   "outputs": [],
   "source": [
    "validacion = 'validacion.csv'\n",
    "ruta_completa = path + '/02_Datos/02_Validacion/' + validacion\n",
    "val.to_csv(ruta_completa)"
   ]
  },
  {
   "cell_type": "markdown",
   "id": "f84e120e",
   "metadata": {},
   "source": [
    "### Extraer y guardar el dataset de trabajo"
   ]
  },
  {
   "cell_type": "code",
   "execution_count": 10,
   "id": "e0ce153c",
   "metadata": {},
   "outputs": [],
   "source": [
    "trabajo = datos.loc[~datos.index.isin(val.index)]"
   ]
  },
  {
   "cell_type": "code",
   "execution_count": 11,
   "id": "dbb79c5f",
   "metadata": {},
   "outputs": [],
   "source": [
    "nombre_fichero_trabajo = 'trabajo.csv'\n",
    "\n",
    "ruta_completa = path + '/02_Datos/03_Trabajo/' + nombre_fichero_trabajo\n",
    "\n",
    "trabajo.to_csv(ruta_completa)"
   ]
  },
  {
   "cell_type": "code",
   "execution_count": null,
   "id": "8a701768-8890-4bfc-96af-1fc6cd22f154",
   "metadata": {},
   "outputs": [],
   "source": []
  }
 ],
 "metadata": {
  "kernelspec": {
   "display_name": "Python 3 (ipykernel)",
   "language": "python",
   "name": "python3"
  },
  "language_info": {
   "codemirror_mode": {
    "name": "ipython",
    "version": 3
   },
   "file_extension": ".py",
   "mimetype": "text/x-python",
   "name": "python",
   "nbconvert_exporter": "python",
   "pygments_lexer": "ipython3",
   "version": "3.12.4"
  },
  "toc": {
   "base_numbering": 1,
   "nav_menu": {},
   "number_sections": true,
   "sideBar": true,
   "skip_h1_title": false,
   "title_cell": "Table of Contents",
   "title_sidebar": "Contents",
   "toc_cell": false,
   "toc_position": {
    "height": "calc(100% - 180px)",
    "left": "10px",
    "top": "150px",
    "width": "346.133px"
   },
   "toc_section_display": true,
   "toc_window_display": false
  },
  "varInspector": {
   "cols": {
    "lenName": 16,
    "lenType": 16,
    "lenVar": 40
   },
   "kernels_config": {
    "python": {
     "delete_cmd_postfix": "",
     "delete_cmd_prefix": "del ",
     "library": "var_list.py",
     "varRefreshCmd": "print(var_dic_list())"
    },
    "r": {
     "delete_cmd_postfix": ") ",
     "delete_cmd_prefix": "rm(",
     "library": "var_list.r",
     "varRefreshCmd": "cat(var_dic_list()) "
    }
   },
   "types_to_exclude": [
    "module",
    "function",
    "builtin_function_or_method",
    "instance",
    "_Feature"
   ],
   "window_display": false
  }
 },
 "nbformat": 4,
 "nbformat_minor": 5
}
